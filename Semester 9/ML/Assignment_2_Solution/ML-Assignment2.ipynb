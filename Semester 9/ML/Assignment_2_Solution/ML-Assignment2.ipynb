{
 "cells": [
  {
   "cell_type": "code",
   "execution_count": 372,
   "metadata": {},
   "outputs": [],
   "source": [
    "import numpy as np\n",
    "%matplotlib inline \n",
    "import matplotlib.pyplot as plt"
   ]
  },
  {
   "cell_type": "code",
   "execution_count": 373,
   "metadata": {},
   "outputs": [],
   "source": [
    "#reads training data set images to matrix \n",
    "def readTrainingImages():\n",
    "    \n",
    "    mat = np.zeros((2400,784))\n",
    "    for x in range(1,2400):\n",
    "        image = plt.imread('/Users/heba/Desktop/ML/Assignment 2/Train/'+ str(x) +'.jpg')\n",
    "        array = np.array(image)\n",
    "        flatarray = array.flatten()\n",
    "        mat[x,:] = np.array(flatarray)\n",
    "    return mat"
   ]
  },
  {
   "cell_type": "code",
   "execution_count": 374,
   "metadata": {},
   "outputs": [],
   "source": [
    "Xmatrix = readTrainingImages()#This would be the X matrix each row is an image (2400x785)\n",
    "XNaiveTrain = Xmatrix"
   ]
  },
  {
   "cell_type": "code",
   "execution_count": 375,
   "metadata": {},
   "outputs": [],
   "source": [
    "#Add a colomn of 1s\n",
    "ones = np.ones((2400,1))"
   ]
  },
  {
   "cell_type": "code",
   "execution_count": 376,
   "metadata": {},
   "outputs": [
    {
     "data": {
      "text/plain": [
       "(785,)"
      ]
     },
     "execution_count": 376,
     "metadata": {},
     "output_type": "execute_result"
    }
   ],
   "source": [
    "XNew = np.hstack((Xmatrix,ones)) #X tilda with an extra column of ones\n",
    "#input images X with a column of 1s\n",
    "XNew[0].shape"
   ]
  },
  {
   "cell_type": "code",
   "execution_count": 377,
   "metadata": {},
   "outputs": [],
   "source": [
    "#initializing training label vectors to contain all ones\n",
    "T0ones = np.ones((2400,1))\n",
    "T1ones = np.ones((2400,1))\n",
    "T2ones = np.ones((2400,1))\n",
    "T3ones = np.ones((2400,1))\n",
    "T4ones = np.ones((2400,1))\n",
    "T5ones = np.ones((2400,1))\n",
    "T6ones = np.ones((2400,1))\n",
    "T7ones = np.ones((2400,1))\n",
    "T8ones = np.ones((2400,1))\n",
    "T9ones = np.ones((2400,1))"
   ]
  },
  {
   "cell_type": "code",
   "execution_count": 378,
   "metadata": {},
   "outputs": [],
   "source": [
    "#initializing training label vectors to contain all neg ones\n",
    "T0 = T0ones * -1 \n",
    "T1 = T1ones * -1 \n",
    "T2 = T2ones * -1 \n",
    "T3 = T3ones * -1 \n",
    "T4 = T4ones * -1 \n",
    "T5 = T5ones * -1 \n",
    "T6 = T6ones * -1 \n",
    "T7 = T7ones * -1 \n",
    "T8 = T8ones * -1 \n",
    "T9 = T9ones * -1 "
   ]
  },
  {
   "cell_type": "code",
   "execution_count": 379,
   "metadata": {},
   "outputs": [],
   "source": [
    "#updating the values of training label vectors to their correct values \n",
    "LabelTxtFile = open(\"/Users/heba/Desktop/ML/Assignment 2/Train/Training Labels.txt\", \"r\")\n",
    "count=0\n",
    "for x in LabelTxtFile:\n",
    "    x = int(x)\n",
    "    if(x==0):\n",
    "        T0[count] = 1\n",
    "    elif(x==1):\n",
    "        T1[count] = 1\n",
    "    elif(x==2):\n",
    "        T2[count] = 1\n",
    "    elif(x==3):\n",
    "        T3[count] = 1\n",
    "    elif(x==4):\n",
    "        T4[count] = 1\n",
    "    elif(x==5):\n",
    "        T5[count] = 1\n",
    "    elif(x==6):\n",
    "        T6[count] = 1\n",
    "    elif(x==7):\n",
    "        T7[count] = 1\n",
    "    elif(x==8):\n",
    "        T8[count] = 1\n",
    "    elif(x==9):    \n",
    "        T9[count] = 1\n",
    "    \n",
    "    count+=1"
   ]
  },
  {
   "cell_type": "code",
   "execution_count": 380,
   "metadata": {},
   "outputs": [
    {
     "data": {
      "text/plain": [
       "1.0"
      ]
     },
     "execution_count": 380,
     "metadata": {},
     "output_type": "execute_result"
    }
   ],
   "source": [
    "#Labels of training dataset\n",
    "T = np.array([T0, T1, T2, T3, T4, T5, T6, T7, T8, T9])\n",
    "T[0][0][0]"
   ]
  },
  {
   "cell_type": "code",
   "execution_count": 381,
   "metadata": {},
   "outputs": [],
   "source": [
    "#reading Test data\n",
    "def readTestImages():\n",
    "    \n",
    "    mat2 = np.zeros((200,784))\n",
    "    for x in range(1,201):\n",
    "        image2 = plt.imread('/Users/heba/Desktop/ML/Assignment 2/Test/'+ str(x) +'.jpg')\n",
    "        array2 = np.array(image2)\n",
    "        flatarray2 = array2.flatten()\n",
    "        mat2[x-1,:] = np.array(flatarray2)\n",
    "        \n",
    "    return mat2"
   ]
  },
  {
   "cell_type": "code",
   "execution_count": 382,
   "metadata": {},
   "outputs": [],
   "source": [
    "#matrix where each row correspond to an image of the test set\n",
    "XmatrixTest = readTestImages()\n",
    "XNaiveTest = XmatrixTest\n",
    "ones2 = np.ones((200,1))\n",
    "XNewTest = np.hstack((XmatrixTest,ones2))"
   ]
  },
  {
   "cell_type": "code",
   "execution_count": 383,
   "metadata": {},
   "outputs": [],
   "source": [
    "#Read test data labels\n",
    "LabelTxtFile2 = open(\"/Users/heba/Desktop/ML/Assignment 2/Test/Test Labels.txt\", \"r\")\n",
    "count=0\n",
    "testLabels = np.ones((200,1))\n",
    "for x in LabelTxtFile2:\n",
    "    x = int(x)\n",
    "    testLabels[count] = x\n",
    "    count+=1"
   ]
  },
  {
   "cell_type": "code",
   "execution_count": 384,
   "metadata": {},
   "outputs": [],
   "source": [
    "#initialize weight vector as per Question 1 \n",
    "def initializeWeight():\n",
    "        W0 = np.zeros((785,1))\n",
    "        W0[0] = 1\n",
    "\n",
    "        W1 = np.zeros((785,1))\n",
    "        W1[0] = 1\n",
    "\n",
    "        W2 = np.zeros((785,1))\n",
    "        W2[0] = 1\n",
    "\n",
    "        W3 = np.zeros((785,1))\n",
    "        W3[0] = 1\n",
    "\n",
    "        W4 = np.zeros((785,1))\n",
    "        W4[0] = 1\n",
    "\n",
    "        W5 = np.zeros((785,1))\n",
    "        W5[0] = 1\n",
    "\n",
    "        W6 = np.zeros((785,1))\n",
    "        W6[0] = 1\n",
    "\n",
    "        W7 = np.zeros((785,1))\n",
    "        W7[0] = 1\n",
    "\n",
    "        W8 = np.zeros((785,1))\n",
    "        W8[0] = 1\n",
    "\n",
    "        W9 = np.zeros((785,1))\n",
    "        W9[0] = 1\n",
    "\n",
    "        W = np.array([W0, W1, W2, W3, W4, W5, W6, W7, W8, W9])\n",
    "        \n",
    "        return W\n"
   ]
  },
  {
   "cell_type": "code",
   "execution_count": 386,
   "metadata": {},
   "outputs": [
    {
     "data": {
      "image/png": "[encoded data removed]",
      "text/plain": [
       "<Figure size 432x288 with 1 Axes>"
      ]
     },
     "metadata": {
      "needs_background": "light"
     },
     "output_type": "display_data"
    },
    {
     "name": "stdout",
     "output_type": "stream",
     "text": [
      "Accuracy of n = 1: 81.5\n"
     ]
    },
    {
     "data": {
      "image/png": "[encoded data removed]",
      "text/plain": [
       "<Figure size 432x288 with 1 Axes>"
      ]
     },
     "metadata": {
      "needs_background": "light"
     },
     "output_type": "display_data"
    },
    {
     "name": "stdout",
     "output_type": "stream",
     "text": [
      "Accuracy of n = 0.1: 81.5\n"
     ]
    },
    {
     "data": {
      "image/png": "[encoded data removed]",
      "text/plain": [
       "<Figure size 432x288 with 1 Axes>"
      ]
     },
     "metadata": {
      "needs_background": "light"
     },
     "output_type": "display_data"
    },
    {
     "name": "stdout",
     "output_type": "stream",
     "text": [
      "Accuracy of n = 0.001: 81.5\n"
     ]
    },
    {
     "data": {
      "image/png": "[encoded data removed]",
      "text/plain": [
       "<Figure size 432x288 with 1 Axes>"
      ]
     },
     "metadata": {
      "needs_background": "light"
     },
     "output_type": "display_data"
    },
    {
     "name": "stdout",
     "output_type": "stream",
     "text": [
      "Accuracy of n = 0.0001: 80.0\n"
     ]
    },
    {
     "data": {
      "image/png": "[encoded data removed]",
      "text/plain": [
       "<Figure size 432x288 with 1 Axes>"
      ]
     },
     "metadata": {
      "needs_background": "light"
     },
     "output_type": "display_data"
    },
    {
     "name": "stdout",
     "output_type": "stream",
     "text": [
      "Accuracy of n = 1e-05: 80.5\n"
     ]
    },
    {
     "data": {
      "image/png": "[encoded data removed]",
      "text/plain": [
       "<Figure size 432x288 with 1 Axes>"
      ]
     },
     "metadata": {
      "needs_background": "light"
     },
     "output_type": "display_data"
    },
    {
     "name": "stdout",
     "output_type": "stream",
     "text": [
      "Accuracy of n = 1e-06: 81.5\n"
     ]
    },
    {
     "data": {
      "image/png": "[encoded data removed]",
      "text/plain": [
       "<Figure size 432x288 with 1 Axes>"
      ]
     },
     "metadata": {
      "needs_background": "light"
     },
     "output_type": "display_data"
    },
    {
     "name": "stdout",
     "output_type": "stream",
     "text": [
      "Accuracy of n = 1e-07: 82.5\n"
     ]
    },
    {
     "data": {
      "image/png": "[encoded data removed]",
      "text/plain": [
       "<Figure size 432x288 with 1 Axes>"
      ]
     },
     "metadata": {
      "needs_background": "light"
     },
     "output_type": "display_data"
    },
    {
     "name": "stdout",
     "output_type": "stream",
     "text": [
      "Accuracy of n = 1e-08: 86.5\n"
     ]
    },
    {
     "data": {
      "image/png": "[encoded data removed]",
      "text/plain": [
       "<Figure size 432x288 with 1 Axes>"
      ]
     },
     "metadata": {
      "needs_background": "light"
     },
     "output_type": "display_data"
    },
    {
     "name": "stdout",
     "output_type": "stream",
     "text": [
      "Accuracy of n = 1e-09: 88.0\n"
     ]
    },
    {
     "data": {
      "image/png": "[encoded data removed]",
      "text/plain": [
       "<Figure size 432x288 with 1 Axes>"
      ]
     },
     "metadata": {
      "needs_background": "light"
     },
     "output_type": "display_data"
    },
    {
     "name": "stdout",
     "output_type": "stream",
     "text": [
      "Accuracy of n = 1e-10: 83.5\n"
     ]
    }
   ],
   "source": [
    "#Question 1 perceptron algorithm, prints confusion matrix and accuracies\n",
    "nAll = [1, 0.1, 0.001, 0.0001, 0.00001, 0.000001, 0.0000001, 0.00000001, 0.000000001, 0.0000000001]\n",
    "\n",
    "for n in range(len(nAll)):\n",
    "    W = initializeWeight()\n",
    "    for c in range(10):\n",
    "        for e in range(500):\n",
    "            for x in range(len(XNew)):\n",
    "\n",
    "                p = np.dot(W[c].reshape(785), XNew[x])\n",
    "\n",
    "                if(p >= 0):\n",
    "                    p = 1.0\n",
    "                else:\n",
    "                    p = -1.0\n",
    "\n",
    "                if(p != T[c][x][0]):\n",
    "                    W[c]= W[c] + nAll[n] * T[c][x][0] * XNew[x].reshape(785,1)\n",
    "\n",
    "    Prediction0 = np.matmul(XNewTest, W[0])  \n",
    "    Prediction1 = np.matmul(XNewTest, W[1])\n",
    "    Prediction2 = np.matmul(XNewTest, W[2])\n",
    "    Prediction3 = np.matmul(XNewTest, W[3])\n",
    "    Prediction4 = np.matmul(XNewTest, W[4])\n",
    "    Prediction5 = np.matmul(XNewTest, W[5])\n",
    "    Prediction6 = np.matmul(XNewTest, W[6])\n",
    "    Prediction7 = np.matmul(XNewTest, W[7])\n",
    "    Prediction8 = np.matmul(XNewTest, W[8])\n",
    "    Prediction9 = np.matmul(XNewTest, W[9])\n",
    "\n",
    "\n",
    "    maximumTargetValue = 0\n",
    "    predictionLabels = np.ones((200,1))\n",
    "    for x in range(200):\n",
    "        maximumTargetValue = np.argmax([Prediction0[x],Prediction1[x],Prediction2[x],Prediction3[x],Prediction4[x],Prediction5[x],Prediction6[x],Prediction7[x],Prediction8[x],Prediction9[x]])\n",
    "        predictionLabels[x] = maximumTargetValue          \n",
    "\n",
    "    confusionMatrix = compute_confusion_matrix(testLabels,predictionLabels)\n",
    "    \n",
    "    plt.imshow(confusionMatrix, interpolation='nearest')\n",
    "\n",
    "    plt.savefig('Confusion' + str(n) + '.jpg',bbox_inches='tight')\n",
    "    plt.show()\n",
    "                \n",
    "    accuracyPerceptron = (np.trace(confusionMatrix)/200) * 100\n",
    "    print(\"Accuracy of n = \" + str(nAll[n]) + \": \"+ str(accuracyPerceptron))        "
   ]
  },
  {
   "cell_type": "code",
   "execution_count": 248,
   "metadata": {},
   "outputs": [],
   "source": [
    "#Question 2: Naiive Bayes\n",
    "\n",
    "#divide all pixels by 255\n",
    "XNaiveTrainNew = XNaiveTrain / 255\n",
    "XNaiveTestNew = XNaiveTest / 255"
   ]
  },
  {
   "cell_type": "code",
   "execution_count": 309,
   "metadata": {},
   "outputs": [
    {
     "data": {
      "text/plain": [
       "[<matplotlib.lines.Line2D at 0x11cb76bd0>]"
      ]
     },
     "execution_count": 309,
     "metadata": {},
     "output_type": "execute_result"
    },
    {
     "data": {
      "image/png": "[encoded data removed]",
      "text/plain": [
       "<Figure size 432x288 with 1 Axes>"
      ]
     },
     "metadata": {
      "needs_background": "light"
     },
     "output_type": "display_data"
    }
   ],
   "source": [
    "#Calculate mean vectors that contain the mean values of each feature in each class\n",
    "Mean0 = np.mean(XNaiveTrainNew[0:240], axis = 0)\n",
    "Mean1 = np.mean(XNaiveTrainNew[240:480], axis = 0)\n",
    "Mean2 = np.mean(XNaiveTrainNew[480:720], axis = 0)\n",
    "Mean3 = np.mean(XNaiveTrainNew[720:960], axis = 0)\n",
    "Mean4 = np.mean(XNaiveTrainNew[960:1200], axis = 0)\n",
    "Mean5 = np.mean(XNaiveTrainNew[1200:1440], axis = 0)\n",
    "Mean6 = np.mean(XNaiveTrainNew[1440:1680], axis = 0)\n",
    "Mean7 = np.mean(XNaiveTrainNew[1680:1920], axis = 0)\n",
    "Mean8 = np.mean(XNaiveTrainNew[1920:2160], axis = 0)\n",
    "Mean9 = np.mean(XNaiveTrainNew[2160:], axis = 0)\n",
    "\n",
    "plt.plot(Mean0)"
   ]
  },
  {
   "cell_type": "code",
   "execution_count": 310,
   "metadata": {},
   "outputs": [
    {
     "data": {
      "text/plain": [
       "[<matplotlib.lines.Line2D at 0x1176bedd0>]"
      ]
     },
     "execution_count": 310,
     "metadata": {},
     "output_type": "execute_result"
    },
    {
     "data": {
      "image/png": "[encoded data removed]",
      "text/plain": [
       "<Figure size 432x288 with 1 Axes>"
      ]
     },
     "metadata": {
      "needs_background": "light"
     },
     "output_type": "display_data"
    }
   ],
   "source": [
    "#Calculate variance vectors that contain the variance values of each feature in each class\n",
    "V0 = np.std(XNaiveTrainNew[0:240], axis = 0) ** 2\n",
    "V1 = np.std(XNaiveTrainNew[240:480], axis = 0) ** 2\n",
    "V2 = np.std(XNaiveTrainNew[480:720], axis = 0) ** 2\n",
    "V3 = np.std(XNaiveTrainNew[720:960], axis = 0) ** 2\n",
    "V4 = np.std(XNaiveTrainNew[960:1200], axis = 0) ** 2\n",
    "V5 = np.std(XNaiveTrainNew[1200:1440], axis = 0) ** 2\n",
    "V6 = np.std(XNaiveTrainNew[1440:1680], axis = 0) ** 2\n",
    "V7 = np.std(XNaiveTrainNew[1680:1920], axis = 0) ** 2\n",
    "V8 = np.std(XNaiveTrainNew[1920:2160], axis = 0) ** 2\n",
    "V9 = np.std(XNaiveTrainNew[2160:], axis = 0) ** 2\n",
    "\n",
    "plt.plot(V0)"
   ]
  },
  {
   "cell_type": "code",
   "execution_count": 293,
   "metadata": {},
   "outputs": [],
   "source": [
    "#Checks if variance values \n",
    "for x in range(len(V0)):\n",
    "    if(V0[x]<0.01):\n",
    "        V0[x] = 0.01\n",
    "    if(V1[x]<0.01):\n",
    "        V1[x] = 0.01\n",
    "    if(V2[x]<0.01):\n",
    "        V2[x] = 0.01\n",
    "    if(V3[x]<0.01):\n",
    "        V3[x] = 0.01\n",
    "    if(V4[x]<0.01):\n",
    "        V4[x] = 0.01\n",
    "    if(V5[x]<0.01):\n",
    "        V5[x] = 0.01\n",
    "    if(V6[x]<0.01):\n",
    "        V6[x] = 0.01\n",
    "    if(V7[x]<0.01):\n",
    "        V7[x] = 0.01\n",
    "    if(V8[x]<0.01):\n",
    "        V8[x] = 0.01\n",
    "    if(V9[x]<0.01):\n",
    "        V9[x] = 0.01\n",
    "        "
   ]
  },
  {
   "cell_type": "code",
   "execution_count": 370,
   "metadata": {},
   "outputs": [],
   "source": [
    "\n",
    "Mean = np.array([Mean0, Mean1, Mean2, Mean3, Mean4, Mean5, Mean6, Mean7, Mean8, Mean9])\n",
    "V = np.array([V0, V1, V2, V3, V4, V5, V6, V7, V8, V9])"
   ]
  },
  {
   "cell_type": "code",
   "execution_count": 325,
   "metadata": {},
   "outputs": [],
   "source": [
    "def Gauss(x, Mean, V):\n",
    "    return (1/np.sqrt(2 * np.pi * V)) * (np.exp((-(np.power((x-Mean),2))/(2*V))))"
   ]
  },
  {
   "cell_type": "code",
   "execution_count": 351,
   "metadata": {},
   "outputs": [],
   "source": [
    "gaussianArray = np.zeros((200,10))\n",
    "\n",
    "for x in range(200):\n",
    "    temp = []\n",
    "    for c in range(0,10):\n",
    "        G = Gauss(XNaiveTestNew[x],Mean[c],V[c]) #gaussian of image x, classifier c\n",
    "        temp = np.append(temp,np.prod(G))\n",
    "   # np.vstack([gaussianArray,temp])\n",
    "    gaussianArray[x] = temp"
   ]
  },
  {
   "cell_type": "code",
   "execution_count": 361,
   "metadata": {},
   "outputs": [
    {
     "data": {
      "text/plain": [
       "array([[1.39251309e+085, 0.00000000e+000, 1.14077794e-096, ...,\n",
       "        6.53727468e-233, 0.00000000e+000, 0.00000000e+000],\n",
       "       [6.38972272e+209, 0.00000000e+000, 1.39169377e+099, ...,\n",
       "        0.00000000e+000, 5.80849599e+085, 2.19001911e-140],\n",
       "       [7.85480166e+196, 0.00000000e+000, 1.01696045e-136, ...,\n",
       "        0.00000000e+000, 0.00000000e+000, 0.00000000e+000],\n",
       "       ...,\n",
       "       [9.08188191e-001, 0.00000000e+000, 2.57998000e-015, ...,\n",
       "        4.18832534e-028, 6.30537550e-139, 1.26018895e-033],\n",
       "       [1.88904338e+002, 7.52949002e-035, 1.20011313e+048, ...,\n",
       "        7.64650209e+246, 1.22889048e+159, 1.85571257e+267],\n",
       "       [2.80296973e+038, 7.40009724e-184, 4.29331760e+092, ...,\n",
       "        2.20286717e+217, 3.49452694e+160, 6.72898753e+268]])"
      ]
     },
     "execution_count": 361,
     "metadata": {},
     "output_type": "execute_result"
    }
   ],
   "source": [
    "gaussianArray"
   ]
  },
  {
   "cell_type": "code",
   "execution_count": 367,
   "metadata": {},
   "outputs": [
    {
     "data": {
      "image/png": "[encoded data removed]",
      "text/plain": [
       "<Figure size 432x288 with 1 Axes>"
      ]
     },
     "metadata": {
      "needs_background": "light"
     },
     "output_type": "display_data"
    }
   ],
   "source": [
    "maximumTargetValue = 0\n",
    "predictionLabels = np.ones((200,1))\n",
    "for x in range(200):\n",
    "    maximumTargetValue = np.argmax([gaussianArray[x][0],gaussianArray[x][1],gaussianArray[x][2],gaussianArray[x][3],gaussianArray[x][4],gaussianArray[x][5],gaussianArray[x][6],gaussianArray[x][7],gaussianArray[x][8],gaussianArray[x][9]])\n",
    "    predictionLabels[x] = maximumTargetValue          \n",
    "\n",
    "confusionMatrix = compute_confusion_matrix(testLabels,predictionLabels)\n",
    "\n",
    "plt.imshow(confusionMatrix, interpolation='nearest')\n",
    "\n",
    "plt.savefig('Confusion-Gauss.jpg',bbox_inches='tight')\n",
    "plt.show()"
   ]
  },
  {
   "cell_type": "code",
   "execution_count": 368,
   "metadata": {},
   "outputs": [
    {
     "data": {
      "text/plain": [
       "array([[18.,  0.,  0.,  0.,  0.,  0.,  1.,  0.,  1.,  0.],\n",
       "       [ 0., 20.,  0.,  0.,  0.,  0.,  0.,  0.,  0.,  0.],\n",
       "       [ 0.,  0., 16.,  0.,  0.,  1.,  1.,  0.,  1.,  1.],\n",
       "       [ 0.,  0.,  0., 17.,  0.,  1.,  0.,  0.,  2.,  0.],\n",
       "       [ 0.,  0.,  0.,  0., 12.,  0.,  3.,  0.,  1.,  4.],\n",
       "       [ 0.,  0.,  0.,  0.,  2., 14.,  0.,  0.,  3.,  1.],\n",
       "       [ 0.,  0.,  0.,  0.,  0.,  0., 19.,  0.,  1.,  0.],\n",
       "       [ 0.,  0.,  0.,  0.,  3.,  0.,  0., 13.,  0.,  4.],\n",
       "       [ 1.,  0.,  0.,  0.,  0.,  1.,  0.,  0., 17.,  1.],\n",
       "       [ 1.,  0.,  0.,  1.,  3.,  0.,  0.,  1.,  1., 13.]])"
      ]
     },
     "execution_count": 368,
     "metadata": {},
     "output_type": "execute_result"
    }
   ],
   "source": [
    "confusionMatrix"
   ]
  },
  {
   "cell_type": "code",
   "execution_count": 369,
   "metadata": {},
   "outputs": [
    {
     "data": {
      "text/plain": [
       "79.5"
      ]
     },
     "execution_count": 369,
     "metadata": {},
     "output_type": "execute_result"
    }
   ],
   "source": [
    "accuracyNaiiveBayes = (np.trace(confusionMatrix)/200) * 100\n",
    "accuracyNaiiveBayes"
   ]
  },
  {
   "cell_type": "code",
   "execution_count": null,
   "metadata": {},
   "outputs": [],
   "source": []
  }
 ],
 "metadata": {
  "kernelspec": {
   "display_name": "Python 2",
   "language": "python",
   "name": "python2"
  },
  "language_info": {
   "codemirror_mode": {
    "name": "ipython",
    "version": 3
   },
   "file_extension": ".py",
   "mimetype": "text/x-python",
   "name": "python",
   "nbconvert_exporter": "python",
   "pygments_lexer": "ipython3",
   "version": "3.7.4"
  }
 },
 "nbformat": 4,
 "nbformat_minor": 2
}
