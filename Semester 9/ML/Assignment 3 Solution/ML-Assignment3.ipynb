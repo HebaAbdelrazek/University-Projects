{
 "cells": [
  {
   "cell_type": "code",
   "execution_count": 266,
   "metadata": {},
   "outputs": [],
   "source": [
    "import numpy as np\n",
    "%matplotlib inline \n",
    "import matplotlib.pyplot as plt"
   ]
  },
  {
   "cell_type": "code",
   "execution_count": 250,
   "metadata": {},
   "outputs": [],
   "source": [
    "#reads images to matrix \n",
    "def readTrainingImages():\n",
    "    \n",
    "    mat = np.zeros((2400,784))\n",
    "    for x in range(1,2400):\n",
    "        image = plt.imread('/Users/heba/Desktop/ML/Assignment 3/Images/'+ str(x) +'.jpg')\n",
    "        array = np.array(image)\n",
    "        flatarray = array.flatten()\n",
    "        mat[x,:] = np.array(flatarray)\n",
    "    return mat"
   ]
  },
  {
   "cell_type": "code",
   "execution_count": 251,
   "metadata": {},
   "outputs": [
    {
     "data": {
      "text/plain": [
       "65307601.0"
      ]
     },
     "execution_count": 251,
     "metadata": {},
     "output_type": "execute_result"
    }
   ],
   "source": [
    "Xmatrix = readTrainingImages() #This would be the X matrix each row is an image (2400x785)\n",
    "Xmatrix.sum()"
   ]
  },
  {
   "cell_type": "code",
   "execution_count": 252,
   "metadata": {},
   "outputs": [],
   "source": [
    "#Binarization of the input images with a threshold of 140\n",
    "for i in range(2400):\n",
    "    for j in range(784):\n",
    "        if(Xmatrix[i][j] >140):\n",
    "            Xmatrix[i][j] = 1\n",
    "        else:\n",
    "            Xmatrix[i][j] = 0     "
   ]
  },
  {
   "cell_type": "code",
   "execution_count": 253,
   "metadata": {},
   "outputs": [
    {
     "data": {
      "text/plain": [
       "(2400, 784)"
      ]
     },
     "execution_count": 253,
     "metadata": {},
     "output_type": "execute_result"
    }
   ],
   "source": [
    "Xmatrix.shape"
   ]
  },
  {
   "cell_type": "code",
   "execution_count": 254,
   "metadata": {},
   "outputs": [],
   "source": [
    "#Given a images matrixm and a centerm returns a new center and a new images matrix without the image of the prev center, and the new center is the image furthest from the inputted center\n",
    "def initializeClusterCenters(Xmatrixleft, prevcenter):\n",
    "    \n",
    "    #initialize center image as a 1D array of zeros\n",
    "    center = np.zeros((1,784)).flatten() \n",
    "    \n",
    "    #loop on Xmatrix to find maximum euclidien distance\n",
    "    sP = Xmatrixleft\n",
    "    pA = prevcenter\n",
    "    distances = np.linalg.norm(sP - pA, ord=2, axis=1.)\n",
    "\n",
    "    center = Xmatrixleft[distances.argmax()]\n",
    "    Xmatrixnew = np.delete(Xmatrixleft, (distances.argmax()), axis=0)\n",
    "    \n",
    "    return [Xmatrixnew, center]\n",
    "    "
   ]
  },
  {
   "cell_type": "code",
   "execution_count": 256,
   "metadata": {},
   "outputs": [],
   "source": [
    "#Given an images matrix, randomly selects an image to be first center then loops to find the 9 other centers by using the prev method\n",
    "def initializeClusters(Xmatrix):\n",
    "    \n",
    "    matCenters = np.zeros((10,784)) #initialize centers matrix\n",
    "    \n",
    "    index = np.random.randint(low=0, high=2399)\n",
    "    \n",
    "    center0 = Xmatrix[index] #first center\n",
    "    matCenters[0] = np.array(center0)\n",
    "    \n",
    "    Xmatrix = np.delete(Xmatrix, (index), axis=0) #new img matrix without first center\n",
    "    \n",
    "    for k in range(1,10):\n",
    "        output = initializeClusterCenters(Xmatrix, center0) \n",
    "        Xmatrix = output[0]\n",
    "        center1 = output[1]\n",
    "        \n",
    "        matCenters[k] = np.array(center1)\n",
    "        center0 = center1\n",
    "        \n",
    "    return matCenters     "
   ]
  },
  {
   "cell_type": "code",
   "execution_count": 258,
   "metadata": {},
   "outputs": [],
   "source": [
    "#Given a centers matrix, and an images vector, outputs the membership cluster value for each image of the 2400 according to euclidien distances to the centers\n",
    "def membership(matCenters, Xmatrix):\n",
    "    \n",
    "    members = np.zeros((1,2400)).flatten() \n",
    "    \n",
    "    for x in range(2400):\n",
    "        \n",
    "        sP = matCenters\n",
    "        pA = Xmatrix[x]\n",
    "        distances = np.linalg.norm(sP - pA, ord=2, axis=1.)\n",
    "        \n",
    "        minIndex = distances.argmin()\n",
    "        \n",
    "        members[x] = minIndex\n",
    "        \n",
    "    return members      "
   ]
  },
  {
   "cell_type": "code",
   "execution_count": 261,
   "metadata": {},
   "outputs": [],
   "source": [
    "#array that will store the membership vectors for each iteration\n",
    "thirtyMembers = np.ones((1,2400)) #initialized with row of 1s will be deleted later\n",
    "\n",
    "for i in range(30): \n",
    "   \n",
    "    matCenters = initializeClusters(Xmatrix)\n",
    "    members = membership(matCenters, Xmatrix)\n",
    "    oldmembers = np.copy(members)\n",
    "    oldmatCenters = np.copy(matCenters)\n",
    "\n",
    "    while(True):\n",
    "\n",
    "        #Update centroids with K-means\n",
    "        for k in range(10):\n",
    "\n",
    "            mean = np.zeros((1,784))  #new center for cluster k\n",
    "\n",
    "            XCluster = Xmatrix[np.where(members==k)]\n",
    "            \n",
    "            mean = np.mean(XCluster, axis = 0) #compute mean of images members in cluster k     \n",
    "            matCenters[k] = mean #new center for cluster k\n",
    "\n",
    "        #After updating the 10 centroids, we recalculate the membership values and compare it\n",
    "        #with old membership values, if they're the same, we break and this converges\n",
    "\n",
    "        members = membership(matCenters, Xmatrix)\n",
    "        if(np.array_equal(matCenters,oldmatCenters)):\n",
    "            break\n",
    "        else:\n",
    "            oldmatCenters = np.copy(matCenters)\n",
    "            \n",
    "    #after converging, add the members to the thirty members matrix\n",
    "    thirtyMembers = np.vstack([thirtyMembers, members])\n",
    "\n",
    "    \n",
    "\n",
    "#After finishing the loop 30 times, we remove the redundant row of 1s\n",
    "thirtyMembers = np.delete(thirtyMembers, (0), axis=0)"
   ]
  },
  {
   "cell_type": "code",
   "execution_count": 269,
   "metadata": {},
   "outputs": [
    {
     "data": {
      "text/plain": [
       "(30, 2400)"
      ]
     },
     "execution_count": 269,
     "metadata": {},
     "output_type": "execute_result"
    }
   ],
   "source": [
    "#np.set_printoptions(threshold=np.inf)\n",
    "thirtyMembers.shape"
   ]
  },
  {
   "cell_type": "code",
   "execution_count": 288,
   "metadata": {},
   "outputs": [],
   "source": [
    "#Given a membership vector, calculates the within cluster distance with respect to the Xmatrix of images, and the clustering that took place according to the values of membership\n",
    "def withinClusterDistance(members):\n",
    "    distance = 0\n",
    "    \n",
    "    for k in range(10):\n",
    "        \n",
    "        XCluster = Xmatrix[np.where(members==k)] #images in the cluster k\n",
    "        \n",
    "        for x in range(XCluster.shape[0]):\n",
    "            sP = XCluster[x]\n",
    "            pA = XCluster\n",
    "            #distances of image x and all other images in XCluster\n",
    "            distances = np.linalg.norm(sP - pA, ord=2, axis=1.)\n",
    "            \n",
    "            #add those distances to the output distance\n",
    "            distance = distance + distances.sum()\n",
    "    \n",
    "    return distance"
   ]
  },
  {
   "cell_type": "code",
   "execution_count": 292,
   "metadata": {},
   "outputs": [],
   "source": [
    "#Finding the minimum within clustering distance for all the 30 iterations \n",
    "#initializing mindistance to first initialization distance\n",
    "minDistance = withinClusterDistance(thirtyMembers[0])\n",
    "index = 0\n",
    "\n",
    "for i in range(1,30):\n",
    "    \n",
    "    distancei = withinClusterDistance(thirtyMembers[i])\n",
    "    if(distancei < minDistance):\n",
    "        #if initilization i had smaller within cluster distance then it's better\n",
    "        minDistance = distancei\n",
    "        index = i\n",
    "        \n",
    "        \n",
    "bestInitilizationIndex = index"
   ]
  },
  {
   "cell_type": "code",
   "execution_count": 293,
   "metadata": {},
   "outputs": [
    {
     "data": {
      "text/plain": [
       "4"
      ]
     },
     "execution_count": 293,
     "metadata": {},
     "output_type": "execute_result"
    }
   ],
   "source": [
    "bestMembers = thirtyMembers[bestInitilizationIndex]\n",
    "bestInitilizationIndex\n",
    "#This is the best initialization index that provided the most accurate membership vector to be used"
   ]
  },
  {
   "cell_type": "code",
   "execution_count": 308,
   "metadata": {},
   "outputs": [
    {
     "data": {
      "text/plain": [
       "array([0., 9., 9., 6., 9., 9., 9., 9., 8., 9., 9., 6., 9., 9., 8., 9., 9.,\n",
       "       9., 9., 9., 6., 9., 9., 9., 8., 8., 9., 1., 9., 8., 9., 4., 9., 9.,\n",
       "       9., 9., 9., 9., 9., 9., 9., 9., 9., 9., 9., 9., 9., 9., 9., 9., 9.,\n",
       "       9., 9., 9., 4., 1., 9., 8., 9., 4., 9., 4., 9., 1., 9., 1., 4., 8.,\n",
       "       9., 9., 9., 9., 6., 9., 9., 9., 1., 9., 9., 9., 9., 9., 9., 9., 9.,\n",
       "       9., 9., 4., 4., 9., 4., 9., 8., 4., 4., 4., 8., 4., 8., 4., 9., 8.,\n",
       "       4., 9., 5., 9., 8., 9., 9., 9., 8., 9., 8., 6., 9., 0., 9., 9., 9.,\n",
       "       6., 9., 9., 4., 6., 6., 9., 9., 9., 9., 9., 6., 9., 6., 9., 4., 9.,\n",
       "       8., 9., 9., 9., 9., 9., 9., 0., 9., 9., 9., 9., 9., 8., 9., 8., 9.,\n",
       "       9., 9., 9., 9., 9., 9., 8., 9., 9., 9., 9., 9., 9., 9., 9., 9., 9.,\n",
       "       8., 9., 9., 9., 9., 9., 9., 9., 5., 9., 9., 5., 9., 5., 9., 9., 9.,\n",
       "       9., 9., 9., 9., 9., 9., 9., 9., 1., 9., 9., 9., 9., 9., 9., 9., 9.,\n",
       "       9., 9., 9., 9., 1., 9., 8., 9., 9., 9., 9., 1., 9., 8., 9., 9., 9.,\n",
       "       8., 5., 9., 9., 9., 9., 9., 9., 1., 8., 9., 9., 9., 9., 9., 9., 8.,\n",
       "       9., 9.])"
      ]
     },
     "execution_count": 308,
     "metadata": {},
     "output_type": "execute_result"
    }
   ],
   "source": [
    "bestMembers[0:240] #For digit 0"
   ]
  },
  {
   "cell_type": "code",
   "execution_count": 358,
   "metadata": {},
   "outputs": [
    {
     "name": "stdout",
     "output_type": "stream",
     "text": [
      "Mode of 0 is 9.0\n",
      "The first index it appeared in is 1\n",
      "The count of this mode is 173\n",
      "\n",
      "Mode of 1 is 0.0\n",
      "The first index it appeared in is 1\n",
      "The count of this mode is 235\n",
      "\n",
      "Mode of 2 is 3.0\n",
      "The first index it appeared in is 1\n",
      "The count of this mode is 142\n",
      "\n",
      "Mode of 3 is 8.0\n",
      "The first index it appeared in is 3\n",
      "The count of this mode is 100\n",
      "\n",
      "Mode of 4 is 7.0\n",
      "The first index it appeared in is 4\n",
      "The count of this mode is 104\n",
      "\n",
      "Mode of 5 is 4.0\n",
      "The first index it appeared in is 2\n",
      "The count of this mode is 78\n",
      "\n",
      "Mode of 6 is 1.0\n",
      "The first index it appeared in is 1\n",
      "The count of this mode is 182\n",
      "\n",
      "Mode of 7 is 2.0\n",
      "The first index it appeared in is 1\n",
      "The count of this mode is 155\n",
      "\n",
      "Mode of 8 is 6.0\n",
      "The first index it appeared in is 1\n",
      "The count of this mode is 112\n",
      "\n",
      "Mode of 9 is 7.0\n",
      "The first index it appeared in is 1\n",
      "The count of this mode is 120\n",
      "\n",
      "[[173.]\n",
      " [235.]\n",
      " [142.]\n",
      " [100.]\n",
      " [104.]\n",
      " [ 78.]\n",
      " [182.]\n",
      " [155.]\n",
      " [112.]\n",
      " [120.]]\n"
     ]
    }
   ],
   "source": [
    "#Initializing count vector to all 1s each row corresponds to count of digits (0-9)\n",
    "count = np.ones((10,1))\n",
    "imageIndex = 0\n",
    "for x in range(10):\n",
    "    \n",
    "    (_, idx, counts) = np.unique(bestMembers[imageIndex:imageIndex+240], return_index=True, return_counts=True)\n",
    "    index = idx[np.argmax(counts)]\n",
    "    mode = bestMembers[imageIndex:imageIndex+240][index]\n",
    "    print(\"Mode of \" + str(x) +\" is \" + str(mode))\n",
    "    print(\"The first index it appeared in is \" + str(index))\n",
    "    print(\"The count of this mode is \" + str(np.max(counts)))\n",
    "    print(\"\")\n",
    "    count[x] = np.max(counts)\n",
    "    imageIndex = imageIndex + 240\n",
    "    \n",
    "print(count)"
   ]
  },
  {
   "cell_type": "code",
   "execution_count": 380,
   "metadata": {},
   "outputs": [
    {
     "data": {
      "image/png": "[encoded data removed]",
      "text/plain": [
       "<Figure size 432x288 with 1 Axes>"
      ]
     },
     "metadata": {
      "needs_background": "light"
     },
     "output_type": "display_data"
    }
   ],
   "source": [
    "plt.bar(('0','1','2','3','4','5','6','7','8','9'),count.flatten())\n",
    "plt.title(\"Best Clustering Result\")\n",
    "plt.xlabel(\"Digits\")\n",
    "plt.ylabel(\"Number of the clustered correctly images for the digit\")\n",
    "plt.savefig('Counts.jpg',bbox_inches='tight')"
   ]
  },
  {
   "cell_type": "code",
   "execution_count": null,
   "metadata": {},
   "outputs": [],
   "source": []
  }
 ],
 "metadata": {
  "kernelspec": {
   "display_name": "Python 2",
   "language": "python",
   "name": "python2"
  },
  "language_info": {
   "codemirror_mode": {
    "name": "ipython",
    "version": 3
   },
   "file_extension": ".py",
   "mimetype": "text/x-python",
   "name": "python",
   "nbconvert_exporter": "python",
   "pygments_lexer": "ipython3",
   "version": "3.7.4"
  }
 },
 "nbformat": 4,
 "nbformat_minor": 2
}
