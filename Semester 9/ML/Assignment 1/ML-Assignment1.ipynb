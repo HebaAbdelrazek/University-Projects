{
 "cells": [
  {
   "cell_type": "code",
   "execution_count": 700,
   "metadata": {},
   "outputs": [],
   "source": [
    "import numpy as np\n",
    "%matplotlib inline \n",
    "import matplotlib.pyplot as plt"
   ]
  },
  {
   "cell_type": "code",
   "execution_count": 701,
   "metadata": {},
   "outputs": [],
   "source": [
    "#reads training data set images to matrix \n",
    "def readTrainingImages():\n",
    "    \n",
    "    mat = np.zeros((2400,784))\n",
    "    for x in range(1,2400):\n",
    "        image = plt.imread('/Users/heba/Desktop/ML/Assignment 1/Train/'+ str(x) +'.jpg')\n",
    "        array = np.array(image)\n",
    "        flatarray = array.flatten()\n",
    "        mat[x,:] = np.array(flatarray)\n",
    "    return mat\n"
   ]
  },
  {
   "cell_type": "code",
   "execution_count": 702,
   "metadata": {},
   "outputs": [
    {
     "data": {
      "text/plain": [
       "65307601.0"
      ]
     },
     "execution_count": 702,
     "metadata": {},
     "output_type": "execute_result"
    }
   ],
   "source": [
    "Xmatrix = readTrainingImages() #This would be the X matrix each row is an image (2400x785)\n",
    "np.sum(Xmatrix)"
   ]
  },
  {
   "cell_type": "code",
   "execution_count": 703,
   "metadata": {},
   "outputs": [
    {
     "data": {
      "text/plain": [
       "array([[1.],\n",
       "       [1.],\n",
       "       [1.],\n",
       "       ...,\n",
       "       [1.],\n",
       "       [1.],\n",
       "       [1.]])"
      ]
     },
     "execution_count": 703,
     "metadata": {},
     "output_type": "execute_result"
    }
   ],
   "source": [
    "#Add a colomn of 1s\n",
    "ones = np.ones((2400,1))\n",
    "ones"
   ]
  },
  {
   "cell_type": "code",
   "execution_count": 704,
   "metadata": {},
   "outputs": [
    {
     "data": {
      "text/plain": [
       "array([[0., 0., 0., ..., 0., 0., 1.],\n",
       "       [0., 0., 0., ..., 0., 0., 1.],\n",
       "       [0., 0., 0., ..., 0., 0., 1.],\n",
       "       ...,\n",
       "       [0., 0., 0., ..., 0., 0., 1.],\n",
       "       [0., 0., 0., ..., 0., 0., 1.],\n",
       "       [0., 0., 0., ..., 0., 0., 1.]])"
      ]
     },
     "execution_count": 704,
     "metadata": {},
     "output_type": "execute_result"
    }
   ],
   "source": [
    "XNew = np.hstack((Xmatrix,ones)) #X tilda with an extra column of ones\n",
    "XNew"
   ]
  },
  {
   "cell_type": "code",
   "execution_count": 705,
   "metadata": {},
   "outputs": [
    {
     "data": {
      "text/plain": [
       "(785, 2400)"
      ]
     },
     "execution_count": 705,
     "metadata": {},
     "output_type": "execute_result"
    }
   ],
   "source": [
    "XTranspose = Xnew.T\n",
    "XTranspose.shape"
   ]
  },
  {
   "cell_type": "code",
   "execution_count": 706,
   "metadata": {},
   "outputs": [
    {
     "data": {
      "text/plain": [
       "(785, 785)"
      ]
     },
     "execution_count": 706,
     "metadata": {},
     "output_type": "execute_result"
    }
   ],
   "source": [
    "XMult = np.matmul(XTranspose,XNew)\n",
    "XMult.shape"
   ]
  },
  {
   "cell_type": "code",
   "execution_count": 707,
   "metadata": {},
   "outputs": [
    {
     "data": {
      "text/plain": [
       "array([[ 1.16600162e-03,  1.88504667e-04,  1.22329451e-04, ...,\n",
       "         9.94931506e-06,  3.47660930e-06, -7.12472001e-05],\n",
       "       [ 1.88504667e-04,  8.37981486e-04, -2.25799444e-05, ...,\n",
       "        -1.07913386e-05,  8.22487038e-06,  7.81017182e-05],\n",
       "       [ 1.22329451e-04, -2.25799444e-05,  1.10070141e-03, ...,\n",
       "         6.07766129e-05,  1.97615709e-05, -1.48097763e-04],\n",
       "       ...,\n",
       "       [ 9.94931506e-06, -1.07913386e-05,  6.07766129e-05, ...,\n",
       "         8.59668715e-05,  4.39265476e-05,  2.39474718e-05],\n",
       "       [ 3.47660931e-06,  8.22487038e-06,  1.97615709e-05, ...,\n",
       "         4.39265476e-05,  8.33496996e-05, -1.11301472e-05],\n",
       "       [-7.12472000e-05,  7.81017182e-05, -1.48097763e-04, ...,\n",
       "         2.39474718e-05, -1.11301472e-05,  1.76457634e-02]])"
      ]
     },
     "execution_count": 707,
     "metadata": {},
     "output_type": "execute_result"
    }
   ],
   "source": [
    "#for pseudoinverse because matrix isn't singular so regular inv wont work\n",
    "XInverse = np.linalg.pinv(XMult)\n",
    "XInverse"
   ]
  },
  {
   "cell_type": "code",
   "execution_count": 708,
   "metadata": {},
   "outputs": [
    {
     "data": {
      "text/plain": [
       "array([[-7.12472001e-05, -5.63516135e-04, -7.89074751e-04, ...,\n",
       "        -5.55092289e-04, -4.95148011e-04, -1.11141205e-04],\n",
       "       [ 7.81017182e-05, -3.41210960e-04,  1.40531434e-04, ...,\n",
       "        -2.13932894e-05,  9.06709340e-05,  2.41403415e-05],\n",
       "       [-1.48097763e-04, -5.64678789e-04,  1.74590407e-04, ...,\n",
       "        -1.22171752e-04,  2.98710034e-04, -8.66220163e-04],\n",
       "       ...,\n",
       "       [ 2.39474718e-05, -1.75959544e-04,  1.65711808e-06, ...,\n",
       "         9.37451996e-05, -7.63492147e-05, -4.63336136e-04],\n",
       "       [-1.11301472e-05,  1.00660889e-04, -1.61370282e-04, ...,\n",
       "        -9.68263347e-05, -1.61215552e-04,  4.30954836e-04],\n",
       "       [ 1.76457634e-02,  1.55094681e-03,  1.56852259e-03, ...,\n",
       "        -1.16288864e-03,  4.14092591e-03, -1.40202434e-03]])"
      ]
     },
     "execution_count": 708,
     "metadata": {},
     "output_type": "execute_result"
    }
   ],
   "source": [
    "XFinal = np.matmul(XInverse, XTranspose)\n",
    "XFinal"
   ]
  },
  {
   "cell_type": "code",
   "execution_count": 709,
   "metadata": {},
   "outputs": [],
   "source": [
    "T0ones = np.ones((2400,1))\n",
    "T1ones = np.ones((2400,1))\n",
    "T2ones = np.ones((2400,1))\n",
    "T3ones = np.ones((2400,1))\n",
    "T4ones = np.ones((2400,1))\n",
    "T5ones = np.ones((2400,1))\n",
    "T6ones = np.ones((2400,1))\n",
    "T7ones = np.ones((2400,1))\n",
    "T8ones = np.ones((2400,1))\n",
    "T9ones = np.ones((2400,1))"
   ]
  },
  {
   "cell_type": "code",
   "execution_count": 710,
   "metadata": {},
   "outputs": [],
   "source": [
    "T0 = T0ones * -1 \n",
    "T1 = T1ones * -1 \n",
    "T2 = T2ones * -1 \n",
    "T3 = T3ones * -1 \n",
    "T4 = T4ones * -1 \n",
    "T5 = T5ones * -1 \n",
    "T6 = T6ones * -1 \n",
    "T7 = T7ones * -1 \n",
    "T8 = T8ones * -1 \n",
    "T9 = T9ones * -1 "
   ]
  },
  {
   "cell_type": "code",
   "execution_count": 711,
   "metadata": {},
   "outputs": [],
   "source": [
    "LabelTxtFile = open(\"/Users/heba/Desktop/ML/Assignment 1/Train/Training Labels.txt\", \"r\")\n",
    "count=0\n",
    "for x in LabelTxtFile:\n",
    "    x = int(x)\n",
    "    if(x==0):\n",
    "        T0[count] = 1\n",
    "    elif(x==1):\n",
    "        T1[count] = 1\n",
    "    elif(x==2):\n",
    "        T2[count] = 1\n",
    "    elif(x==3):\n",
    "        T3[count] = 1\n",
    "    elif(x==4):\n",
    "        T4[count] = 1\n",
    "    elif(x==5):\n",
    "        T5[count] = 1\n",
    "    elif(x==6):\n",
    "        T6[count] = 1\n",
    "    elif(x==7):\n",
    "        T7[count] = 1\n",
    "    elif(x==8):\n",
    "        T8[count] = 1\n",
    "    elif(x==9):    \n",
    "        T9[count] = 1\n",
    "    \n",
    "    count+=1"
   ]
  },
  {
   "cell_type": "code",
   "execution_count": 712,
   "metadata": {},
   "outputs": [
    {
     "data": {
      "text/plain": [
       "array([[ 1.],\n",
       "       [ 1.],\n",
       "       [ 1.],\n",
       "       ...,\n",
       "       [-1.],\n",
       "       [-1.],\n",
       "       [-1.]])"
      ]
     },
     "execution_count": 712,
     "metadata": {},
     "output_type": "execute_result"
    }
   ],
   "source": [
    "T0"
   ]
  },
  {
   "cell_type": "code",
   "execution_count": 713,
   "metadata": {},
   "outputs": [],
   "source": [
    "#W tilda for each of the digits\n",
    "W0 = np.matmul(XFinal, T0)\n",
    "W1 = np.matmul(XFinal, T1)\n",
    "W2 = np.matmul(XFinal, T2)\n",
    "W3 = np.matmul(XFinal, T3)\n",
    "W4 = np.matmul(XFinal, T4)\n",
    "W5 = np.matmul(XFinal, T5)\n",
    "W6 = np.matmul(XFinal, T6)\n",
    "W7 = np.matmul(XFinal, T7)\n",
    "W8 = np.matmul(XFinal, T8)\n",
    "W9 = np.matmul(XFinal, T9)"
   ]
  },
  {
   "cell_type": "code",
   "execution_count": 610,
   "metadata": {},
   "outputs": [
    {
     "data": {
      "text/plain": [
       "(785, 1)"
      ]
     },
     "execution_count": 610,
     "metadata": {},
     "output_type": "execute_result"
    }
   ],
   "source": [
    "W0.shape"
   ]
  },
  {
   "cell_type": "code",
   "execution_count": 714,
   "metadata": {},
   "outputs": [],
   "source": [
    "#Test data\n",
    "def readTestImages():\n",
    "    \n",
    "    mat2 = np.zeros((200,784))\n",
    "    for x in range(1,201):\n",
    "        image2 = plt.imread('/Users/heba/Desktop/ML/Assignment 1/Test/'+ str(x) +'.jpg')\n",
    "        array2 = np.array(image2)\n",
    "        flatarray2 = array2.flatten()\n",
    "        mat2[x-1,:] = np.array(flatarray2)\n",
    "        \n",
    "    return mat2"
   ]
  },
  {
   "cell_type": "code",
   "execution_count": 715,
   "metadata": {},
   "outputs": [
    {
     "data": {
      "text/plain": [
       "5529856.0"
      ]
     },
     "execution_count": 715,
     "metadata": {},
     "output_type": "execute_result"
    }
   ],
   "source": [
    "XmatrixTest = readTestImages()\n",
    "np.sum(XmatrixTest)"
   ]
  },
  {
   "cell_type": "code",
   "execution_count": 716,
   "metadata": {},
   "outputs": [
    {
     "data": {
      "text/plain": [
       "array([[0., 0., 0., ..., 0., 0., 1.],\n",
       "       [0., 0., 0., ..., 0., 0., 1.],\n",
       "       [0., 0., 0., ..., 0., 0., 1.],\n",
       "       ...,\n",
       "       [0., 2., 5., ..., 0., 0., 1.],\n",
       "       [0., 0., 0., ..., 0., 0., 1.],\n",
       "       [0., 0., 0., ..., 0., 0., 1.]])"
      ]
     },
     "execution_count": 716,
     "metadata": {},
     "output_type": "execute_result"
    }
   ],
   "source": [
    "ones2 = np.ones((200,1))\n",
    "XNewTest = np.hstack((XmatrixTest,ones2))\n",
    "XNewTest"
   ]
  },
  {
   "cell_type": "code",
   "execution_count": 717,
   "metadata": {},
   "outputs": [],
   "source": [
    "Prediction0 = np.matmul(XNewTest, W0)  \n",
    "Prediction1 = np.matmul(XNewTest, W1)\n",
    "Prediction2 = np.matmul(XNewTest, W2)\n",
    "Prediction3 = np.matmul(XNewTest, W3)\n",
    "Prediction4 = np.matmul(XNewTest, W4)\n",
    "Prediction5 = np.matmul(XNewTest, W5)\n",
    "Prediction6 = np.matmul(XNewTest, W6)\n",
    "Prediction7 = np.matmul(XNewTest, W7)\n",
    "Prediction8 = np.matmul(XNewTest, W8)\n",
    "Prediction9 = np.matmul(XNewTest, W9)"
   ]
  },
  {
   "cell_type": "code",
   "execution_count": 718,
   "metadata": {},
   "outputs": [
    {
     "data": {
      "text/plain": [
       "(200, 1)"
      ]
     },
     "execution_count": 718,
     "metadata": {},
     "output_type": "execute_result"
    }
   ],
   "source": [
    "Prediction0.shape"
   ]
  },
  {
   "cell_type": "code",
   "execution_count": 719,
   "metadata": {},
   "outputs": [],
   "source": [
    "maximumTargetValue = 0\n",
    "predictionLabels = np.ones((200,1))\n",
    "for x in range(200):\n",
    "    maximumTargetValue = np.argmax([Prediction0[x],Prediction1[x],Prediction2[x],Prediction3[x],Prediction4[x],Prediction5[x],Prediction6[x],Prediction7[x],Prediction8[x],Prediction9[x]])\n",
    "    predictionLabels[x] = maximumTargetValue "
   ]
  },
  {
   "cell_type": "code",
   "execution_count": 720,
   "metadata": {},
   "outputs": [],
   "source": [
    "LabelTxtFile2 = open(\"/Users/heba/Desktop/ML/Assignment 1/Test/Test Labels.txt\", \"r\")\n",
    "count=0\n",
    "testLabels = np.ones((200,1))\n",
    "for x in LabelTxtFile2:\n",
    "    x = int(x)\n",
    "    testLabels[count] = x\n",
    "    count+=1"
   ]
  },
  {
   "cell_type": "code",
   "execution_count": 721,
   "metadata": {},
   "outputs": [],
   "source": [
    "def compute_confusion_matrix(true,pred):\n",
    "    K = len(np.unique(true))\n",
    "    result = np.zeros((K,K))\n",
    "    \n",
    "    for i in range(len(true)):\n",
    "        result[int(true[i].item())][int(pred[i].item())] += 1\n",
    "        \n",
    "    return result"
   ]
  },
  {
   "cell_type": "code",
   "execution_count": 722,
   "metadata": {},
   "outputs": [
    {
     "data": {
      "text/plain": [
       "array([[19.,  0.,  0.,  0.,  0.,  0.,  1.,  0.,  0.,  0.],\n",
       "       [ 0., 20.,  0.,  0.,  0.,  0.,  0.,  0.,  0.,  0.],\n",
       "       [ 1.,  3., 11.,  2.,  2.,  1.,  0.,  0.,  0.,  0.],\n",
       "       [ 0.,  0.,  0., 16.,  0.,  1.,  0.,  0.,  3.,  0.],\n",
       "       [ 0.,  0.,  0.,  0., 17.,  1.,  0.,  1.,  0.,  1.],\n",
       "       [ 0.,  0.,  0.,  1.,  0., 14.,  1.,  0.,  2.,  2.],\n",
       "       [ 0.,  0.,  0.,  0.,  0.,  0., 20.,  0.,  0.,  0.],\n",
       "       [ 0.,  0.,  1.,  1.,  0.,  0.,  0., 15.,  0.,  3.],\n",
       "       [ 0.,  0.,  1.,  1.,  0.,  3.,  0.,  0., 14.,  1.],\n",
       "       [ 1.,  0.,  0.,  1.,  1.,  1.,  0.,  4.,  0., 12.]])"
      ]
     },
     "execution_count": 722,
     "metadata": {},
     "output_type": "execute_result"
    }
   ],
   "source": [
    "confusionMatrix = compute_confusion_matrix(testLabels,predictionLabels)\n",
    "confusionMatrix"
   ]
  },
  {
   "cell_type": "code",
   "execution_count": 723,
   "metadata": {},
   "outputs": [
    {
     "data": {
      "image/png": "[encoded data removed]",
      "text/plain": [
       "<Figure size 432x288 with 1 Axes>"
      ]
     },
     "metadata": {
      "needs_background": "light"
     },
     "output_type": "display_data"
    }
   ],
   "source": [
    "plt.imshow(confusionMatrix, interpolation='nearest')\n",
    "\n",
    "plt.savefig('Confusion.jpg',bbox_inches='tight')\n",
    "plt.show()"
   ]
  }
 ],
 "metadata": {
  "kernelspec": {
   "display_name": "Python 2",
   "language": "python",
   "name": "python2"
  },
  "language_info": {
   "codemirror_mode": {
    "name": "ipython",
    "version": 3
   },
   "file_extension": ".py",
   "mimetype": "text/x-python",
   "name": "python",
   "nbconvert_exporter": "python",
   "pygments_lexer": "ipython3",
   "version": "3.7.4"
  }
 },
 "nbformat": 4,
 "nbformat_minor": 2
}
